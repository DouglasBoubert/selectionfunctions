{
 "cells": [
  {
   "cell_type": "markdown",
   "metadata": {},
   "source": [
    "# Tutorial for selectionfunctions python module"
   ]
  },
  {
   "cell_type": "code",
   "execution_count": null,
   "metadata": {},
   "outputs": [],
   "source": [
    "# Imports custom to how you run your notebook.\n",
    "import matplotlib.pyplot as plt\n",
    "import numpy as np\n",
    "import matplotlib as mpl\n",
    "%config InlineBackend.figure_format = 'retina'\n",
    "mpl.rcParams['figure.dpi']= 150"
   ]
  },
  {
   "cell_type": "markdown",
   "metadata": {},
   "source": [
    "## Downloading the data files"
   ]
  },
  {
   "cell_type": "code",
   "execution_count": null,
   "metadata": {},
   "outputs": [],
   "source": [
    "# Set the directory to where you want to store the large data files\n",
    "from selectionfunctions.config import config\n",
    "config['data_dir'] = '/Users/douglasboubert/Science/selectionfunctions/selectionfunctions/data'"
   ]
  },
  {
   "cell_type": "code",
   "execution_count": null,
   "metadata": {},
   "outputs": [],
   "source": [
    "import selectionfunctions.boubert_everall_2019\n",
    "selectionfunctions.boubert_everall_2019.fetch()"
   ]
  },
  {
   "cell_type": "markdown",
   "metadata": {},
   "source": [
    "## Simple query"
   ]
  },
  {
   "cell_type": "code",
   "execution_count": null,
   "metadata": {},
   "outputs": [],
   "source": [
    "from selectionfunctions.boubert_everall_2019 import BoubertEverall2019Query\n",
    "from selectionfunctions.source_base import Source\n",
    "\n",
    "boubert_everall_2019 = BoubertEverall2019Query()"
   ]
  },
  {
   "cell_type": "code",
   "execution_count": null,
   "metadata": {},
   "outputs": [],
   "source": [
    "c = Source(\n",
    "        '05h00m00.00000s',\n",
    "        '+30d00m00.0000s',\n",
    "        photometry={'gaia_g':21.2},\n",
    "        frame='icrs')\n",
    "print(boubert_everall_2019(c))"
   ]
  },
  {
   "cell_type": "markdown",
   "metadata": {},
   "source": [
    "## Large query to create a map"
   ]
  },
  {
   "cell_type": "code",
   "execution_count": null,
   "metadata": {},
   "outputs": [],
   "source": [
    "import PIL.Image\n",
    "import astropy.units as u\n",
    "\n",
    "def numpy2pil(a, vmin, vmax):\n",
    "    a = np.clip((a - vmin) / (vmax - vmin), 0., 1.)\n",
    "    a = (254.99 * a).astype('u1')\n",
    "    return PIL.Image.fromarray(a)\n",
    "\n",
    "w,h = (2056,1024)\n",
    "l_0 = 130.\n",
    "\n",
    "# Set up Bayestar query object\n",
    "print('Loading Boubert & Everall 2019 selection function...')\n",
    "boubert_everall_2019 = BoubertEverall2019Query()\n",
    "\n",
    "# Create a grid of coordinates\n",
    "print('Creating grid of coordinates...')\n",
    "l = np.linspace(-180.+l_0, 180.+l_0, 2*w)\n",
    "b = np.linspace(-90., 90., 2*h+2)\n",
    "b = b[1:-1]\n",
    "l,b = np.meshgrid(l, b)\n",
    "\n",
    "l += (np.random.random(l.shape) - 0.5) * 360./(2.*w)\n",
    "b += (np.random.random(l.shape) - 0.5) * 180./(2.*h)\n",
    "\n",
    "sf = np.empty(l.shape+(3,), dtype='f8')\n",
    "\n",
    "for k,G in enumerate([21.0, 21.2, 21.4]):\n",
    "    # d = 5.    # We'll query integrated reddening to a distance of 5 kpc\n",
    "    sources = Source(l*u.deg, b*u.deg, photometry={'gaia_g':G*np.ones(l.shape)}, frame='galactic')\n",
    "\n",
    "    # Get the dust median reddening at each coordinate\n",
    "    print('Querying map...')\n",
    "    sf[:,:,k] = boubert_everall_2019.query(sources)\n",
    "\n",
    "# Convert the output array to a PIL image and save\n",
    "print('Saving image...')\n",
    "img = numpy2pil(sf[::-1,::-1,:], 0., 1)\n",
    "img = img.resize((w,h), resample=PIL.Image.LANCZOS)\n",
    "\n",
    "plt.imshow(img)"
   ]
  },
  {
   "cell_type": "code",
   "execution_count": null,
   "metadata": {},
   "outputs": [],
   "source": []
  }
 ],
 "metadata": {
  "kernelspec": {
   "display_name": "Python [conda env:rvsselection] *",
   "language": "python",
   "name": "conda-env-rvsselection-py"
  },
  "language_info": {
   "codemirror_mode": {
    "name": "ipython",
    "version": 3
   },
   "file_extension": ".py",
   "mimetype": "text/x-python",
   "name": "python",
   "nbconvert_exporter": "python",
   "pygments_lexer": "ipython3",
   "version": "3.7.3"
  }
 },
 "nbformat": 4,
 "nbformat_minor": 4
}
